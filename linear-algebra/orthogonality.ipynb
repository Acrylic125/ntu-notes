{
 "cells": [
  {
   "cell_type": "code",
   "execution_count": 67,
   "metadata": {},
   "outputs": [
    {
     "name": "stdout",
     "output_type": "stream",
     "text": [
      "[[1 0 0]\n",
      " [2 1 0]\n",
      " [1 1 3]\n",
      " [1 1 1]]\n",
      "(4, 3)\n",
      "[[ 0.37796447 -0.6761234   0.42163702]\n",
      " [ 0.75592895 -0.16903085 -0.42163702]\n",
      " [ 0.37796447  0.50709255  0.73786479]\n",
      " [ 0.37796447  0.50709255 -0.31622777]]\n",
      "----\n",
      "[[ 1.00000000e+00 -2.49800181e-16  5.55111512e-17]\n",
      " [-2.49800181e-16  1.00000000e+00  2.15781215e-16]\n",
      " [ 5.55111512e-17  2.15781215e-16  1.00000000e+00]]\n",
      "[[ 0.77777778  0.22222222  0.11111111 -0.33333333]\n",
      " [ 0.22222222  0.77777778 -0.11111111  0.33333333]\n",
      " [ 0.11111111 -0.11111111  0.94444444  0.16666667]\n",
      " [-0.33333333  0.33333333  0.16666667  0.5       ]]\n",
      "----\n",
      "-2.220446049250313e-16\n",
      "5.551115123125783e-17\n",
      "1.942890293094024e-16\n"
     ]
    }
   ],
   "source": [
    "import numpy as np\n",
    "\n",
    "def qr_decomposition(matrix: np.matrix, normalised=False):\n",
    "    rows = matrix.shape[0]\n",
    "    cols = matrix.shape[1]\n",
    "    q = np.zeros((rows, cols))\n",
    "    r = np.zeros((cols, cols))\n",
    "    \n",
    "    for i in range(0, cols):\n",
    "        v = matrix[:, i]\n",
    "        \n",
    "        final = np.array(v).ravel()\n",
    "        for j in range(0, i):\n",
    "            qj = np.array(q[:, j])\n",
    "            v_dot_qj = np.dot(qj, v)\n",
    "            qj_dot_qj = np.dot(qj, qj)\n",
    "            coeff = v_dot_qj / qj_dot_qj\n",
    "            coeff = np.array(coeff)[0, 0]\n",
    "            final = final - (coeff * qj)\n",
    "        \n",
    "        if normalised:\n",
    "            norm = np.linalg.norm(final)\n",
    "            final = final / norm\n",
    "        q[:, i] = final\n",
    "        \n",
    "    return q, r\n",
    "\n",
    "m = np.matrix([\n",
    "    [1, 0, 0], \n",
    "    [2, 1, 0],\n",
    "    [1, 1, 3],\n",
    "    [1, 1, 1],\n",
    "])\n",
    "print(m)\n",
    "print(m.shape)\n",
    "q, r = qr_decomposition(m, normalised=True)\n",
    "print(q)\n",
    "print(\"----\")\n",
    "qT = q.T\n",
    "print(np.matmul(qT, q))\n",
    "print(np.matmul(q, qT))\n",
    "\n",
    "print(\"----\")\n",
    "print(\n",
    "   qT[0].dot(qT[1]) \n",
    ")\n",
    "print(\n",
    "   qT[0].dot(qT[2]) \n",
    ")\n",
    "print(\n",
    "   qT[1].dot(qT[2]) \n",
    ")"
   ]
  },
  {
   "cell_type": "code",
   "execution_count": null,
   "metadata": {},
   "outputs": [],
   "source": []
  },
  {
   "cell_type": "code",
   "execution_count": null,
   "metadata": {},
   "outputs": [],
   "source": []
  }
 ],
 "metadata": {
  "kernelspec": {
   "display_name": "sc1003",
   "language": "python",
   "name": "python3"
  },
  "language_info": {
   "codemirror_mode": {
    "name": "ipython",
    "version": 3
   },
   "file_extension": ".py",
   "mimetype": "text/x-python",
   "name": "python",
   "nbconvert_exporter": "python",
   "pygments_lexer": "ipython3",
   "version": "3.10.7"
  }
 },
 "nbformat": 4,
 "nbformat_minor": 2
}
