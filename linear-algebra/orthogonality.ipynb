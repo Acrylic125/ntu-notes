{
 "cells": [
  {
   "cell_type": "code",
   "execution_count": null,
   "metadata": {},
   "outputs": [
    {
     "name": "stdout",
     "output_type": "stream",
     "text": [
      "[[1 0 0]\n",
      " [2 1 0]\n",
      " [1 1 3]\n",
      " [1 1 1]]\n",
      "(4, 3)\n",
      "[[ 1.         -0.57142857  0.8       ]\n",
      " [ 2.         -0.14285714 -0.8       ]\n",
      " [ 1.          0.42857143  1.4       ]\n",
      " [ 1.          0.42857143 -0.6       ]]\n",
      "----\n",
      "[[7.00000000e+00 2.22044605e-16 0.00000000e+00]\n",
      " [2.22044605e-16 7.14285714e-01 1.39570895e-16]\n",
      " [0.00000000e+00 1.39570895e-16 3.60000000e+00]]\n",
      "[[1.96653061 1.44163265 1.87510204 0.27510204]\n",
      " [1.44163265 4.66040816 0.81877551 2.41877551]\n",
      " [1.87510204 0.81877551 3.14367347 0.34367347]\n",
      " [0.27510204 2.41877551 0.34367347 1.54367347]]\n",
      "----\n",
      "2.220446049250313e-16\n",
      "0.0\n",
      "1.3877787807814457e-16\n"
     ]
    }
   ],
   "source": [
    "import numpy as np\n",
    "\n",
    "def qr_decomposition(matrix: np.matrix, normalised=False):\n",
    "    rows = matrix.shape[0]\n",
    "    cols = matrix.shape[1]\n",
    "    q = np.zeros((rows, cols))\n",
    "    r = np.zeros((cols, cols))\n",
    "    \n",
    "    for i in range(0, cols):\n",
    "        v = matrix[:, i]\n",
    "        \n",
    "        final = np.array(v).ravel()\n",
    "        for j in range(0, i):\n",
    "            qj = np.array(q[:, j])\n",
    "            v_dot_qj = np.dot(qj, v)\n",
    "            qj_dot_qj = np.dot(qj, qj)\n",
    "            coeff = v_dot_qj / qj_dot_qj\n",
    "            coeff = np.array(coeff)[0, 0]\n",
    "            final = final - (coeff * qj)\n",
    "        \n",
    "        if normalised:\n",
    "            norm = np.linalg.norm(final)\n",
    "            final = final / norm\n",
    "        q[:, i] = final\n",
    "        \n",
    "    return q, r\n",
    "\n",
    "m = np.matrix([\n",
    "    [1, 0, 0], \n",
    "    [2, 1, 0],\n",
    "    [1, 1, 3],\n",
    "    [1, 1, 1],\n",
    "])\n",
    "print(m)\n",
    "print(m.shape)\n",
    "q, r = qr_decomposition(m, normalised=True)\n",
    "print(q)\n",
    "print(\"----\")\n",
    "qT = q.T\n",
    "print(np.matmul(qT, q))\n",
    "print(np.matmul(q, qT))\n",
    "\n",
    "print(\"----\")\n",
    "print(\n",
    "   qT[0].dot(qT[1]) \n",
    ")\n",
    "print(\n",
    "   qT[0].dot(qT[2]) \n",
    ")\n",
    "print(\n",
    "   qT[1].dot(qT[2]) \n",
    ")"
   ]
  },
  {
   "cell_type": "code",
   "execution_count": null,
   "metadata": {},
   "outputs": [],
   "source": []
  },
  {
   "cell_type": "code",
   "execution_count": null,
   "metadata": {},
   "outputs": [],
   "source": []
  }
 ],
 "metadata": {
  "kernelspec": {
   "display_name": "sc1003",
   "language": "python",
   "name": "python3"
  },
  "language_info": {
   "codemirror_mode": {
    "name": "ipython",
    "version": 3
   },
   "file_extension": ".py",
   "mimetype": "text/x-python",
   "name": "python",
   "nbconvert_exporter": "python",
   "pygments_lexer": "ipython3",
   "version": "3.10.7"
  }
 },
 "nbformat": 4,
 "nbformat_minor": 2
}
